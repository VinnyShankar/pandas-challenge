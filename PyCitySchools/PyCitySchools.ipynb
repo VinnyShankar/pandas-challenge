{
 "cells": [
  {
   "cell_type": "code",
   "execution_count": null,
   "id": "a1a76abc",
   "metadata": {},
   "outputs": [],
   "source": [
    "#Dependencies and setup\n",
    "import pandas as pd\n",
    "\n",
    "#File paths\n",
    "school_path = \"Resources/schools_complete.csv\"\n",
    "student_path = \"Resources/students_complete.csv\"\n",
    "\n",
    "#Read csv files\n",
    "school_data = pd.read_csv(school_path)\n",
    "student_data = pd.read_csv(student_data)"
   ]
  }
 ],
 "metadata": {
  "kernelspec": {
   "display_name": "PythonData",
   "language": "python",
   "name": "pythondata"
  },
  "language_info": {
   "codemirror_mode": {
    "name": "ipython",
    "version": 3
   },
   "file_extension": ".py",
   "mimetype": "text/x-python",
   "name": "python",
   "nbconvert_exporter": "python",
   "pygments_lexer": "ipython3",
   "version": "3.7.7"
  }
 },
 "nbformat": 4,
 "nbformat_minor": 5
}
